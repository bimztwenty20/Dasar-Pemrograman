{
 "cells": [
  {
   "cell_type": "code",
   "execution_count": 3,
   "metadata": {},
   "outputs": [
    {
     "name": "stdout",
     "output_type": "stream",
     "text": [
      "data Ke - 1\n",
      "data Ke - 2\n",
      "=============================================================\n",
      "Nim Nilai Uts Nilai UAS Total\n",
      "=============================================================\n",
      "123456 \t 99 \t\t 99 \t\t\t 99\n",
      "98765 \t 90 \t\t 87 \t\t\t 88\n",
      "=============================================================\n"
     ]
    }
   ],
   "source": [
    "#variable yg berulang menggunakan List/matriks\n",
    "list_nim=[]\n",
    "list_uts=[]\n",
    "list_uas=[]\n",
    "list_total=[]\n",
    "ulang=2\n",
    "for i in range(ulang):\n",
    "    print (\"data Ke - \" + str(i+1))\n",
    "    list_nim.append(input(\"Masukkan Nim anda : \"))\n",
    "    list_uts.append(int(input(\"Masukkan Nilai UTS anda :\")))\n",
    "    list_uas.append(int(input(\"Masukkan Nilai UAS : \")))\n",
    "#proses\n",
    "for i in range(ulang):\n",
    "    list_total.append((list_uas[i] + list_uts[i]) / 2)\n",
    "#Cetak\n",
    "print(\"=============================================================\")\n",
    "print(\"Nim Nilai Uts Nilai UAS Total\")\n",
    "print(\"=============================================================\")\n",
    "for i in range(ulang):\n",
    "    print (\"%s \\t %i \\t\\t %i \\t\\t\\t %i\" % (list_nim[i],list_uts[i],list_uas[i],list_total[i]))\n",
    "print(\"=============================================================\")"
   ]
  }
 ],
 "metadata": {
  "interpreter": {
   "hash": "f31b3e31f39257a99fe40cb687abd27fee9a14b661548420aeda6ec90adb91c3"
  },
  "kernelspec": {
   "display_name": "Python 3.9.7 64-bit",
   "name": "python3"
  },
  "language_info": {
   "codemirror_mode": {
    "name": "ipython",
    "version": 3
   },
   "file_extension": ".py",
   "mimetype": "text/x-python",
   "name": "python",
   "nbconvert_exporter": "python",
   "pygments_lexer": "ipython3",
   "version": "3.9.7"
  },
  "orig_nbformat": 4
 },
 "nbformat": 4,
 "nbformat_minor": 2
}
